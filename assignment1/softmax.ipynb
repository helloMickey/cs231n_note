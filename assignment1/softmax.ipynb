{
 "cells": [
  {
   "cell_type": "markdown",
   "metadata": {
    "toc": true
   },
   "source": [
    "<h1>Table of Contents<span class=\"tocSkip\"></span></h1>\n",
    "<div class=\"toc\"><ul class=\"toc-item\"><li><span><a href=\"#Softmax-exercise\" data-toc-modified-id=\"Softmax-exercise-1\"><span class=\"toc-item-num\">1&nbsp;&nbsp;</span>Softmax exercise</a></span><ul class=\"toc-item\"><li><span><a href=\"#Data-preparing\" data-toc-modified-id=\"Data-preparing-1.1\"><span class=\"toc-item-num\">1.1&nbsp;&nbsp;</span>Data preparing</a></span></li><li><span><a href=\"#Base：Softmax-Classifier\" data-toc-modified-id=\"Base：Softmax-Classifier-1.2\"><span class=\"toc-item-num\">1.2&nbsp;&nbsp;</span>Base：Softmax Classifier</a></span><ul class=\"toc-item\"><li><span><a href=\"#related-equation\" data-toc-modified-id=\"related-equation-1.2.1\"><span class=\"toc-item-num\">1.2.1&nbsp;&nbsp;</span><strong>related equation</strong></a></span></li><li><span><a href=\"#softmax-regression\" data-toc-modified-id=\"softmax-regression-1.2.2\"><span class=\"toc-item-num\">1.2.2&nbsp;&nbsp;</span><strong>softmax regression</strong></a></span></li><li><span><a href=\"#code-test\" data-toc-modified-id=\"code-test-1.2.3\"><span class=\"toc-item-num\">1.2.3&nbsp;&nbsp;</span>code test</a></span></li></ul></li><li><span><a href=\"#Advanced\" data-toc-modified-id=\"Advanced-1.3\"><span class=\"toc-item-num\">1.3&nbsp;&nbsp;</span>Advanced</a></span><ul class=\"toc-item\"><li><span><a href=\"#Classifier-class\" data-toc-modified-id=\"Classifier-class-1.3.1\"><span class=\"toc-item-num\">1.3.1&nbsp;&nbsp;</span>Classifier class</a></span></li><li><span><a href=\"#valitation\" data-toc-modified-id=\"valitation-1.3.2\"><span class=\"toc-item-num\">1.3.2&nbsp;&nbsp;</span>valitation</a></span></li><li><span><a href=\"#weight-visualization\" data-toc-modified-id=\"weight-visualization-1.3.3\"><span class=\"toc-item-num\">1.3.3&nbsp;&nbsp;</span>weight visualization</a></span></li></ul></li></ul></li></ul></div>"
   ]
  },
  {
   "cell_type": "markdown",
   "metadata": {
    "tags": [
     "pdf-title"
    ]
   },
   "source": [
    "# Softmax exercise\n",
    "\n",
    "*Complete and hand in this completed worksheet (including its outputs and any supporting code outside of the worksheet) with your assignment submission. For more details see the [assignments page](http://vision.stanford.edu/teaching/cs231n/assignments.html) on the course website.*\n",
    "\n",
    "This exercise is analogous to the SVM exercise. You will:\n",
    "\n",
    "- implement a fully-vectorized **loss function** for the Softmax classifier\n",
    "- implement the fully-vectorized expression for its **analytic gradient**\n",
    "- **check your implementation** with numerical gradient\n",
    "- use a validation set to **tune the learning rate and regularization** strength\n",
    "- **optimize** the loss function with **SGD**\n",
    "- **visualize** the final learned weights\n"
   ]
  },
  {
   "cell_type": "markdown",
   "metadata": {},
   "source": [
    "## Data preparing"
   ]
  },
  {
   "cell_type": "code",
   "execution_count": 1,
   "metadata": {
    "ExecuteTime": {
     "end_time": "2019-09-15T08:38:28.654395Z",
     "start_time": "2019-09-15T08:38:28.280535Z"
    },
    "tags": [
     "pdf-ignore"
    ]
   },
   "outputs": [],
   "source": [
    "import random\n",
    "import numpy as np\n",
    "from cs231n.data_utils import load_CIFAR10\n",
    "import matplotlib.pyplot as plt\n",
    "\n",
    "%matplotlib inline\n",
    "plt.rcParams['figure.figsize'] = (10.0, 8.0)  # set default size of plots\n",
    "plt.rcParams['image.interpolation'] = 'nearest'\n",
    "plt.rcParams['image.cmap'] = 'gray'\n",
    "\n",
    "# for auto-reloading extenrnal modules\n",
    "# see http://stackoverflow.com/questions/1907993/autoreload-of-modules-in-ipython\n",
    "%load_ext autoreload\n",
    "%autoreload 2"
   ]
  },
  {
   "cell_type": "code",
   "execution_count": 2,
   "metadata": {
    "ExecuteTime": {
     "end_time": "2019-09-15T08:38:28.677790Z",
     "start_time": "2019-09-15T08:38:28.656349Z"
    },
    "code_folding": [
     0
    ],
    "tags": [
     "pdf-ignore"
    ]
   },
   "outputs": [],
   "source": [
    "def get_CIFAR10_data(num_training=49000, num_validation=1000, num_test=1000, num_dev=500):\n",
    "    \"\"\"\n",
    "    Load the CIFAR-10 dataset from disk and perform preprocessing to prepare\n",
    "    it for the linear classifier. These are the same steps as we used for the\n",
    "    SVM, but condensed to a single function.  \n",
    "    \"\"\"\n",
    "    # Load the raw CIFAR-10 data\n",
    "    cifar10_dir = 'cs231n/datasets/cifar-10-batches-py'\n",
    "    \n",
    "    # Cleaning up variables to prevent loading data multiple times (which may cause memory issue)\n",
    "    try:\n",
    "       del X_train, y_train\n",
    "       del X_test, y_test\n",
    "       print('Clear previously loaded data.')\n",
    "    except:\n",
    "       pass\n",
    "\n",
    "    X_train, y_train, X_test, y_test = load_CIFAR10(cifar10_dir)\n",
    "    \n",
    "    # subsample the data\n",
    "    mask = list(range(num_training, num_training + num_validation))\n",
    "    X_val = X_train[mask]\n",
    "    y_val = y_train[mask]\n",
    "    mask = list(range(num_training))\n",
    "    X_train = X_train[mask]\n",
    "    y_train = y_train[mask]\n",
    "    mask = list(range(num_test))\n",
    "    X_test = X_test[mask]\n",
    "    y_test = y_test[mask]\n",
    "    mask = np.random.choice(num_training, num_dev, replace=False)\n",
    "    X_dev = X_train[mask]\n",
    "    y_dev = y_train[mask]\n",
    "    \n",
    "    # Preprocessing: reshape the image data into rows\n",
    "    X_train = np.reshape(X_train, (X_train.shape[0], -1))\n",
    "    X_val = np.reshape(X_val, (X_val.shape[0], -1))\n",
    "    X_test = np.reshape(X_test, (X_test.shape[0], -1))\n",
    "    X_dev = np.reshape(X_dev, (X_dev.shape[0], -1))\n",
    "    \n",
    "    # Normalize the data: subtract the mean image\n",
    "    mean_image = np.mean(X_train, axis = 0)\n",
    "    X_train -= mean_image\n",
    "    X_val -= mean_image\n",
    "    X_test -= mean_image\n",
    "    X_dev -= mean_image\n",
    "    \n",
    "    # add bias dimension and transform into columns\n",
    "    X_train = np.hstack([X_train, np.ones((X_train.shape[0], 1))])\n",
    "    X_val = np.hstack([X_val, np.ones((X_val.shape[0], 1))])\n",
    "    X_test = np.hstack([X_test, np.ones((X_test.shape[0], 1))])\n",
    "    X_dev = np.hstack([X_dev, np.ones((X_dev.shape[0], 1))])\n",
    "    \n",
    "    return X_train, y_train, X_val, y_val, X_test, y_test, X_dev, y_dev"
   ]
  },
  {
   "cell_type": "code",
   "execution_count": 3,
   "metadata": {
    "ExecuteTime": {
     "end_time": "2019-09-15T08:38:32.463889Z",
     "start_time": "2019-09-15T08:38:28.679918Z"
    }
   },
   "outputs": [
    {
     "name": "stdout",
     "output_type": "stream",
     "text": [
      "Train data shape:  (49000, 3073)\n",
      "Train labels shape:  (49000,)\n",
      "Validation data shape:  (1000, 3073)\n",
      "Validation labels shape:  (1000,)\n",
      "Test data shape:  (1000, 3073)\n",
      "Test labels shape:  (1000,)\n",
      "dev data shape:  (500, 3073)\n",
      "dev labels shape:  (500,)\n"
     ]
    }
   ],
   "source": [
    "# Invoke the above function to get our data.\n",
    "X_train, y_train, X_val, y_val, X_test, y_test, X_dev, y_dev = get_CIFAR10_data()\n",
    "print('Train data shape: ', X_train.shape)\n",
    "print('Train labels shape: ', y_train.shape)\n",
    "print('Validation data shape: ', X_val.shape)\n",
    "print('Validation labels shape: ', y_val.shape)\n",
    "print('Test data shape: ', X_test.shape)\n",
    "print('Test labels shape: ', y_test.shape)\n",
    "print('dev data shape: ', X_dev.shape)\n",
    "print('dev labels shape: ', y_dev.shape)"
   ]
  },
  {
   "cell_type": "markdown",
   "metadata": {},
   "source": [
    "## Base：Softmax Classifier"
   ]
  },
  {
   "cell_type": "markdown",
   "metadata": {},
   "source": [
    "### **related equation**"
   ]
  },
  {
   "cell_type": "markdown",
   "metadata": {
    "ExecuteTime": {
     "end_time": "2019-09-15T06:45:34.292581Z",
     "start_time": "2019-09-15T06:45:34.277163Z"
    }
   },
   "source": [
    "Softmax函数:$Softmax(a) = \\frac{e^{a_{i}}}{\\sum e^{a_{j}}}$,其对于输入的偏导:\n",
    "\n",
    "\n",
    "$\\frac{\\partial Softmax}{\\partial a_{i}} = S_{i}\\ast (1-S_{i})$\n",
    "\n",
    "$\\frac{\\partial Softmax}{\\partial a_{j}} = -S_{i}\\ast S_{j}$ \n",
    "        \n",
    "\n",
    "其中$S_{i}$对应正确类别i的输出，$S_{j}$对应其余类别的softmax函数输出（输出是一个向量，对应C类）\n",
    "\n",
    "$\\frac{\\partial Loss}{\\partial W} = \\frac{\\partial Loss}{\\partial sotfmax} \\ast \\frac{\\partial softmax}{\\partial a} \\ast \\frac{\\partial a}{\\partial W}$ \n",
    "\n",
    "其中：\n",
    "\n",
    "$Loss = -{log\\left ( softmax \\right )}$\n",
    "\n",
    "$a = W \\ast X$\n"
   ]
  },
  {
   "cell_type": "markdown",
   "metadata": {
    "ExecuteTime": {
     "end_time": "2019-09-15T06:59:04.498451Z",
     "start_time": "2019-09-15T06:59:04.479984Z"
    }
   },
   "source": [
    "###  **softmax regression**\n",
    "cs231n/classifiers 下的softmax.py，为了方便在jupyter notebook中编辑，不通过包调用啦!"
   ]
  },
  {
   "cell_type": "code",
   "execution_count": 4,
   "metadata": {
    "ExecuteTime": {
     "end_time": "2019-09-15T08:38:32.562738Z",
     "start_time": "2019-09-15T08:38:32.469403Z"
    },
    "code_folding": []
   },
   "outputs": [],
   "source": [
    "from builtins import range\n",
    "import numpy as np\n",
    "from random import shuffle\n",
    "from past.builtins import xrange"
   ]
  },
  {
   "cell_type": "code",
   "execution_count": 5,
   "metadata": {
    "ExecuteTime": {
     "end_time": "2019-09-15T08:38:32.577805Z",
     "start_time": "2019-09-15T08:38:32.564686Z"
    },
    "code_folding": []
   },
   "outputs": [],
   "source": [
    "def softmax_loss_naive(W, X, y, reg):\n",
    "    \"\"\"\n",
    "    Softmax loss function, naive implementation (with loops)\n",
    "\n",
    "    Inputs have dimension D, there are C classes, and we operate on minibatches\n",
    "    of N examples.\n",
    "\n",
    "    Inputs:\n",
    "    - W: A numpy array of shape (D, C) containing weights.\n",
    "    - X: A numpy array of shape (N, D) containing a minibatch of data.\n",
    "    - y: A numpy array of shape (N,) containing training labels; y[i] = c means\n",
    "      that X[i] has label c, where 0 <= c < C.\n",
    "    - reg: (float) regularization strength\n",
    "\n",
    "    Returns a tuple of:\n",
    "    - loss as single float\n",
    "    - gradient with respect to weights W; an array of same shape as W\n",
    "    \"\"\"\n",
    "    # Initialize the loss and gradient to zero.\n",
    "    loss = 0.0\n",
    "    dW = np.zeros_like(W)\n",
    "\n",
    "    #############################################################################\n",
    "    # TODO: Compute the softmax loss and its gradient using explicit loops.     #\n",
    "    # Store the loss in loss and the gradient in dW. If you are not careful     #\n",
    "    # here, it is easy to run into numeric instability. Don't forget the        #\n",
    "    # regularization!                                                           #\n",
    "    #############################################################################\n",
    "    # *****START OF YOUR CODE (DO NOT DELETE/MODIFY THIS LINE)*****\n",
    "\n",
    "    num_classes = W.shape[1]\n",
    "    num_train = X.shape[0]\n",
    "\n",
    "    for i in xrange(num_train):\n",
    "        scores = X[i].dot(W)  # (1, D) dot (D, C) => (C, )\n",
    "        scores = scores - max(scores)  # 减去max(scores)防止数据上溢/下溢\n",
    "        # 单个样本所产生的损失值，Li = - log(softmax(scores))\n",
    "        loss_i = -(scores[y[i]] - np.log(sum(np.exp(scores))))\n",
    "        loss += loss_i\n",
    "\n",
    "        # 前向传播的同时，记录 dW 用于反向传播\n",
    "        for j in xrange(num_classes):\n",
    "            softmax_output = np.exp(scores[j])/sum(np.exp(scores))\n",
    "            if j == y[i]:\n",
    "                dW[:, y[i]] += (softmax_output - 1) * X[i]  # 链式法则求导\n",
    "            else:\n",
    "                dW[:, j] += softmax_output * X[i]\n",
    "\n",
    "    loss /= num_train\n",
    "    loss += 0.5 * reg * np.sum(W * W)\n",
    "    dW = dW/num_train + reg * W\n",
    "    pass\n",
    "\n",
    "    # *****END OF YOUR CODE (DO NOT DELETE/MODIFY THIS LINE)*****\n",
    "\n",
    "    return loss, dW"
   ]
  },
  {
   "cell_type": "markdown",
   "metadata": {},
   "source": [
    "**向量化后，用矩阵运算替代for循环可以大大节省时间**"
   ]
  },
  {
   "cell_type": "code",
   "execution_count": 6,
   "metadata": {
    "ExecuteTime": {
     "end_time": "2019-09-15T08:38:32.599365Z",
     "start_time": "2019-09-15T08:38:32.580759Z"
    },
    "code_folding": []
   },
   "outputs": [],
   "source": [
    "def softmax_loss_vectorized(W, X, y, reg):\n",
    "    \"\"\"\n",
    "    Softmax loss function, vectorized version.\n",
    "\n",
    "    Inputs and outputs are the same as softmax_loss_naive.\n",
    "    \"\"\"\n",
    "    # Initialize the loss and gradient to zero.\n",
    "    loss = 0.0\n",
    "    dW = np.zeros_like(W)\n",
    "\n",
    "    #############################################################################\n",
    "    # TODO: Compute the softmax loss and its gradient using no explicit loops.  #\n",
    "    # Store the loss in loss and the gradient in dW. If you are not careful     #\n",
    "    # here, it is easy to run into numeric instability. Don't forget the        #\n",
    "    # regularization!                                                           #\n",
    "    #############################################################################\n",
    "    # *****START OF YOUR CODE (DO NOT DELETE/MODIFY THIS LINE)*****\n",
    "    num_classes = W.shape[1]\n",
    "    num_train = X.shape[0]\n",
    "    scores = X.dot(W)\n",
    "    shift_scores = scores - np.max(scores, axis = 1).reshape(-1,1)\n",
    "    softmax_output = np.exp(shift_scores)/np.sum(np.exp(shift_scores), axis = 1).reshape(-1,1)\n",
    "    loss = -np.sum(np.log(softmax_output[range(num_train), list(y)]))\n",
    "    loss /= num_train \n",
    "    loss +=  0.5* reg * np.sum(W * W)\n",
    "  \n",
    "    dS = softmax_output.copy()\n",
    "    dS[range(num_train), list(y)] += -1\n",
    "    dW = (X.T).dot(dS)\n",
    "    dW = dW/num_train + reg* W\n",
    "    pass\n",
    "\n",
    "    # *****END OF YOUR CODE (DO NOT DELETE/MODIFY THIS LINE)*****\n",
    "\n",
    "    return loss, dW"
   ]
  },
  {
   "cell_type": "markdown",
   "metadata": {},
   "source": [
    "### code test\n",
    "测试 softmax.py "
   ]
  },
  {
   "cell_type": "code",
   "execution_count": 7,
   "metadata": {
    "ExecuteTime": {
     "end_time": "2019-09-15T08:38:32.852793Z",
     "start_time": "2019-09-15T08:38:32.601810Z"
    },
    "scrolled": true
   },
   "outputs": [
    {
     "name": "stdout",
     "output_type": "stream",
     "text": [
      "loss: 2.394922\n",
      "sanity check: 2.302585\n"
     ]
    }
   ],
   "source": [
    "# First implement the naive softmax loss function with nested loops.\n",
    "# Open the file cs231n/classifiers/softmax.py and implement the\n",
    "# softmax_loss_naive function.\n",
    "\n",
    "# from cs231n.classifiers.softmax import softmax_loss_naive\n",
    "import time\n",
    "\n",
    "# Generate a random softmax weight matrix and use it to compute the loss.\n",
    "W = np.random.randn(3073, 10) * 0.0001\n",
    "loss, grad = softmax_loss_naive(W, X_dev, y_dev, 0.0)\n",
    "\n",
    "# As a rough sanity check, our loss should be something close to -log(0.1).\n",
    "print('loss: %f' % loss)\n",
    "print('sanity check: %f' % (-np.log(0.1)))"
   ]
  },
  {
   "cell_type": "markdown",
   "metadata": {
    "tags": [
     "pdf-inline"
    ]
   },
   "source": [
    "**Inline Question 1**\n",
    "\n",
    "Why do we expect our loss to be close to -log(0.1)? Explain briefly.\n",
    "\n",
    "$\\color{blue}{\\textit Your Answer:}$ *Since the weight matrix W is uniform randomly selected, the predicted probability of each class is uniform distribution and identically equals 1/10, where 10 is the number of classes. So the cross entroy for each example is -log(0.1), which should equal to the loss.* \n",
    "\n"
   ]
  },
  {
   "cell_type": "code",
   "execution_count": 8,
   "metadata": {
    "ExecuteTime": {
     "end_time": "2019-09-15T08:38:39.882918Z",
     "start_time": "2019-09-15T08:38:32.855611Z"
    },
    "code_folding": [],
    "scrolled": true
   },
   "outputs": [
    {
     "name": "stdout",
     "output_type": "stream",
     "text": [
      "numerical: -0.432966 analytic: -0.432966, relative error: 7.208693e-08\n",
      "numerical: -5.090644 analytic: -5.090644, relative error: 3.247636e-09\n",
      "numerical: 1.855640 analytic: 1.855640, relative error: 1.900349e-08\n",
      "numerical: -0.834843 analytic: -0.834843, relative error: 1.929974e-08\n",
      "numerical: -1.907642 analytic: -1.907642, relative error: 3.051011e-09\n",
      "numerical: -0.358988 analytic: -0.358988, relative error: 7.738659e-08\n",
      "numerical: -0.517367 analytic: -0.517367, relative error: 1.246271e-08\n",
      "numerical: -0.701646 analytic: -0.701646, relative error: 5.052261e-09\n",
      "numerical: -1.330508 analytic: -1.330508, relative error: 2.587872e-09\n",
      "numerical: -2.090464 analytic: -2.090464, relative error: 8.478321e-09\n",
      "numerical: -0.459511 analytic: -0.459511, relative error: 3.450144e-08\n",
      "numerical: -1.707826 analytic: -1.707826, relative error: 2.156114e-08\n",
      "numerical: -1.063348 analytic: -1.063348, relative error: 1.242918e-08\n",
      "numerical: 2.644334 analytic: 2.644334, relative error: 1.704362e-08\n",
      "numerical: 0.766380 analytic: 0.766380, relative error: 3.464384e-08\n",
      "numerical: -1.369490 analytic: -1.369491, relative error: 7.947483e-09\n",
      "numerical: -1.326581 analytic: -1.326581, relative error: 1.186801e-08\n",
      "numerical: -2.980906 analytic: -2.980906, relative error: 2.876401e-09\n",
      "numerical: -0.788006 analytic: -0.788006, relative error: 5.160373e-08\n",
      "numerical: -0.185806 analytic: -0.185806, relative error: 2.606710e-07\n"
     ]
    }
   ],
   "source": [
    "# Complete the implementation of softmax_loss_naive and implement a (naive)\n",
    "# version of the gradient that uses nested loops.\n",
    "loss, grad = softmax_loss_naive(W, X_dev, y_dev, 0.0)\n",
    "\n",
    "# As we did for the SVM, use numeric gradient checking as a debugging tool.\n",
    "# The numeric gradient should be close to the analytic gradient.\n",
    "from cs231n.gradient_check import grad_check_sparse\n",
    "f = lambda w: softmax_loss_naive(w, X_dev, y_dev, 0.0)[0]\n",
    "grad_numerical = grad_check_sparse(f, W, grad, 10)\n",
    "\n",
    "# similar to SVM case, do another gradient check with regularization\n",
    "loss, grad = softmax_loss_naive(W, X_dev, y_dev, 5e1)\n",
    "f = lambda w: softmax_loss_naive(w, X_dev, y_dev, 5e1)[0]\n",
    "grad_numerical = grad_check_sparse(f, W, grad, 10)"
   ]
  },
  {
   "cell_type": "code",
   "execution_count": 9,
   "metadata": {
    "ExecuteTime": {
     "end_time": "2019-09-15T08:38:40.056706Z",
     "start_time": "2019-09-15T08:38:39.885487Z"
    }
   },
   "outputs": [
    {
     "name": "stdout",
     "output_type": "stream",
     "text": [
      "naive loss: 2.394922e+00 computed in 0.150774s\n",
      "vectorized loss: 2.394922e+00 computed in 0.003710s\n",
      "Loss difference: 0.000000\n",
      "Gradient difference: 0.000000\n"
     ]
    }
   ],
   "source": [
    "# Now that we have a naive implementation of the softmax loss function and its gradient,\n",
    "# implement a vectorized version in softmax_loss_vectorized.\n",
    "# The two versions should compute the same results, but the vectorized version should be\n",
    "# much faster.\n",
    "tic = time.time()\n",
    "loss_naive, grad_naive = softmax_loss_naive(W, X_dev, y_dev, 0.000005)\n",
    "toc = time.time()\n",
    "print('naive loss: %e computed in %fs' % (loss_naive, toc - tic))\n",
    "\n",
    "# from cs231n.classifiers.softmax import softmax_loss_vectorized\n",
    "tic = time.time()\n",
    "loss_vectorized, grad_vectorized = softmax_loss_vectorized(W, X_dev, y_dev, 0.000005)\n",
    "toc = time.time()\n",
    "print('vectorized loss: %e computed in %fs' % (loss_vectorized, toc - tic))\n",
    "\n",
    "# As we did for the SVM, we use the Frobenius norm to compare the two versions\n",
    "# of the gradient.\n",
    "grad_difference = np.linalg.norm(grad_naive - grad_vectorized, ord='fro')\n",
    "print('Loss difference: %f' % np.abs(loss_naive - loss_vectorized))\n",
    "print('Gradient difference: %f' % grad_difference)"
   ]
  },
  {
   "cell_type": "markdown",
   "metadata": {},
   "source": [
    "## Advanced\n",
    "### Classifier class\n",
    "将其封装为完整的类，原本的代码在 cs231n.classifiers 下"
   ]
  },
  {
   "cell_type": "code",
   "execution_count": 10,
   "metadata": {
    "ExecuteTime": {
     "end_time": "2019-09-15T08:38:40.078468Z",
     "start_time": "2019-09-15T08:38:40.058772Z"
    },
    "code_folding": [
     0,
     124
    ]
   },
   "outputs": [],
   "source": [
    "class LinearClassifier(object):\n",
    "\n",
    "    def __init__(self):\n",
    "        self.W = None\n",
    "\n",
    "    def train(self, X, y, learning_rate=1e-3, reg=1e-5, num_iters=100,\n",
    "              batch_size=200, verbose=False):\n",
    "        \"\"\"\n",
    "        Train this linear classifier using stochastic gradient descent.\n",
    "\n",
    "        Inputs:\n",
    "        - X: A numpy array of shape (N, D) containing training data; there are N\n",
    "          training samples each of dimension D.\n",
    "        - y: A numpy array of shape (N,) containing training labels; y[i] = c\n",
    "          means that X[i] has label 0 <= c < C for C classes.\n",
    "        - learning_rate: (float) learning rate for optimization.\n",
    "        - reg: (float) regularization strength.\n",
    "        - num_iters: (integer) number of steps to take when optimizing\n",
    "        - batch_size: (integer) number of training examples to use at each step.\n",
    "        - verbose: (boolean) If true, print progress during optimization.\n",
    "\n",
    "        Outputs:\n",
    "        A list containing the value of the loss function at each training iteration.\n",
    "        \"\"\"\n",
    "        num_train, dim = X.shape\n",
    "        num_classes = np.max(y) + 1 # assume y takes values 0...K-1 where K is number of classes\n",
    "        if self.W is None:\n",
    "            # lazily initialize W\n",
    "            self.W = 0.001 * np.random.randn(dim, num_classes)\n",
    "\n",
    "        # Run stochastic gradient descent to optimize W\n",
    "        loss_history = []\n",
    "        for it in range(num_iters):\n",
    "            X_batch = None\n",
    "            y_batch = None\n",
    "\n",
    "            #########################################################################\n",
    "            # TODO:                                                                 #\n",
    "            # Sample batch_size elements from the training data and their           #\n",
    "            # corresponding labels to use in this round of gradient descent.        #\n",
    "            # Store the data in X_batch and their corresponding labels in           #\n",
    "            # y_batch; after sampling X_batch should have shape (batch_size, dim)   #\n",
    "            # and y_batch should have shape (batch_size,)                           #\n",
    "            #                                                                       #\n",
    "            # Hint: Use np.random.choice to generate indices. Sampling with         #\n",
    "            # replacement is faster than sampling without replacement.              #\n",
    "            #########################################################################\n",
    "            # *****START OF YOUR CODE (DO NOT DELETE/MODIFY THIS LINE)*****\n",
    "           \n",
    "            batch_idx = np.random.choice(num_train, batch_size, replace = True)\n",
    "            X_batch =  X[batch_idx]\n",
    "            y_batch = y[batch_idx]\n",
    "            pass\n",
    "\n",
    "            # *****END OF YOUR CODE (DO NOT DELETE/MODIFY THIS LINE)*****\n",
    "\n",
    "            # evaluate loss and gradient\n",
    "            loss, grad = self.loss(X_batch, y_batch, reg) # loss, dW\n",
    "            loss_history.append(loss)\n",
    "\n",
    "            # perform parameter update\n",
    "            #########################################################################\n",
    "            # TODO:                                                                 #\n",
    "            # Update the weights using the gradient and the learning rate.          #\n",
    "            #########################################################################\n",
    "            # *****START OF YOUR CODE (DO NOT DELETE/MODIFY THIS LINE)*****\n",
    "            \n",
    "            # W =  W - learning_rate * dW\n",
    "            self.W += - learning_rate * grad \n",
    "            pass\n",
    "\n",
    "            # *****END OF YOUR CODE (DO NOT DELETE/MODIFY THIS LINE)*****\n",
    "\n",
    "            if verbose and it % 100 == 0:\n",
    "                print('iteration %d / %d: loss %f' % (it, num_iters, loss))\n",
    "\n",
    "        return loss_history\n",
    "\n",
    "    def predict(self, X):\n",
    "        \"\"\"\n",
    "        Use the trained weights of this linear classifier to predict labels for\n",
    "        data points.\n",
    "\n",
    "        Inputs:\n",
    "        - X: A numpy array of shape (N, D) containing training data; there are N\n",
    "          training samples each of dimension D.\n",
    "\n",
    "        Returns:\n",
    "        - y_pred: Predicted labels for the data in X. y_pred is a 1-dimensional\n",
    "          array of length N, and each element is an integer giving the predicted\n",
    "          class.\n",
    "        \"\"\"\n",
    "        y_pred = np.zeros(X.shape[0])\n",
    "        ###########################################################################\n",
    "        # TODO:                                                                   #\n",
    "        # Implement this method. Store the predicted labels in y_pred.            #\n",
    "        ###########################################################################\n",
    "        # *****START OF YOUR CODE (DO NOT DELETE/MODIFY THIS LINE)*****\n",
    "        scores = X.dot(self.W)\n",
    "        y_pred = np.argmax(scores, axis = 1)\n",
    "        \n",
    "        pass\n",
    "\n",
    "        # *****END OF YOUR CODE (DO NOT DELETE/MODIFY THIS LINE)*****\n",
    "        return y_pred\n",
    "\n",
    "    def loss(self, X_batch, y_batch, reg):\n",
    "        \"\"\"\n",
    "        Compute the loss function and its derivative.\n",
    "        Subclasses will override this.\n",
    "\n",
    "        Inputs:\n",
    "        - X_batch: A numpy array of shape (N, D) containing a minibatch of N\n",
    "          data points; each point has dimension D.\n",
    "        - y_batch: A numpy array of shape (N,) containing labels for the minibatch.\n",
    "        - reg: (float) regularization strength.\n",
    "\n",
    "        Returns: A tuple containing:\n",
    "        - loss as a single float\n",
    "        - gradient with respect to self.W; an array of the same shape as W\n",
    "        \"\"\"\n",
    "        pass\n",
    "\n",
    "# 继承\n",
    "class Softmax(LinearClassifier):\n",
    "    \"\"\" A subclass that uses the Softmax + Cross-entropy loss function \"\"\"\n",
    "\n",
    "    def loss(self, X_batch, y_batch, reg):\n",
    "        return softmax_loss_vectorized(self.W, X_batch, y_batch, reg)\n"
   ]
  },
  {
   "cell_type": "markdown",
   "metadata": {},
   "source": [
    "### valitation\n",
    "选择超参数, 使用 tqdm 打印循环执行进度条"
   ]
  },
  {
   "cell_type": "code",
   "execution_count": 11,
   "metadata": {
    "ExecuteTime": {
     "end_time": "2019-09-15T08:38:40.097594Z",
     "start_time": "2019-09-15T08:38:40.080760Z"
    }
   },
   "outputs": [],
   "source": [
    "from tqdm import tqdm\n",
    "from tqdm import trange"
   ]
  },
  {
   "cell_type": "code",
   "execution_count": 12,
   "metadata": {
    "ExecuteTime": {
     "end_time": "2019-09-15T08:42:31.584559Z",
     "start_time": "2019-09-15T08:38:40.099952Z"
    },
    "scrolled": true,
    "tags": [
     "code"
    ]
   },
   "outputs": [
    {
     "name": "stderr",
     "output_type": "stream",
     "text": [
      "  0%|          | 0/3 [00:00<?, ?it/s]\n",
      "  0%|          | 0/14 [00:00<?, ?it/s]\u001b[A\n",
      "  7%|▋         | 1/14 [00:07<01:33,  7.22s/it]\u001b[A\n",
      " 14%|█▍        | 2/14 [00:12<01:20,  6.74s/it]\u001b[A\n",
      " 21%|██▏       | 3/14 [00:18<01:09,  6.31s/it]\u001b[A\n",
      " 29%|██▊       | 4/14 [00:23<00:59,  5.93s/it]\u001b[A\n",
      " 36%|███▌      | 5/14 [00:29<00:54,  6.00s/it]\u001b[A\n",
      " 43%|████▎     | 6/14 [00:34<00:46,  5.85s/it]\u001b[A\n",
      " 50%|█████     | 7/14 [00:39<00:38,  5.54s/it]\u001b[A\n",
      " 57%|█████▋    | 8/14 [00:45<00:34,  5.78s/it]\u001b[A\n",
      " 64%|██████▍   | 9/14 [00:51<00:28,  5.72s/it]\u001b[A\n",
      " 71%|███████▏  | 10/14 [00:57<00:22,  5.64s/it]\u001b[A\n",
      " 79%|███████▊  | 11/14 [01:02<00:16,  5.58s/it]\u001b[A\n",
      " 86%|████████▌ | 12/14 [01:07<00:10,  5.40s/it]\u001b[A\n",
      " 93%|█████████▎| 13/14 [01:12<00:05,  5.27s/it]\u001b[A\n",
      "100%|██████████| 14/14 [01:17<00:00,  5.55s/it]\u001b[A\n",
      "100%|██████████| 3/3 [03:51<00:00, 77.15s/it]"
     ]
    },
    {
     "name": "stdout",
     "output_type": "stream",
     "text": [
      "lr 1.000000e-07 reg 7.000000e+03 train accuracy: 0.344878 val accuracy: 0.344000\n",
      "lr 1.000000e-07 reg 8.000000e+03 train accuracy: 0.351347 val accuracy: 0.372000\n",
      "lr 1.000000e-07 reg 9.000000e+03 train accuracy: 0.356061 val accuracy: 0.373000\n",
      "lr 1.000000e-07 reg 1.000000e+04 train accuracy: 0.350755 val accuracy: 0.375000\n",
      "lr 1.000000e-07 reg 1.100000e+04 train accuracy: 0.360510 val accuracy: 0.360000\n",
      "lr 1.000000e-07 reg 1.200000e+04 train accuracy: 0.360490 val accuracy: 0.364000\n",
      "lr 1.000000e-07 reg 1.300000e+04 train accuracy: 0.360265 val accuracy: 0.377000\n",
      "lr 1.000000e-07 reg 4.700000e+04 train accuracy: 0.327204 val accuracy: 0.349000\n",
      "lr 1.000000e-07 reg 4.800000e+04 train accuracy: 0.327367 val accuracy: 0.336000\n",
      "lr 1.000000e-07 reg 4.900000e+04 train accuracy: 0.336816 val accuracy: 0.345000\n",
      "lr 1.000000e-07 reg 5.000000e+04 train accuracy: 0.325000 val accuracy: 0.336000\n",
      "lr 1.000000e-07 reg 5.100000e+04 train accuracy: 0.328286 val accuracy: 0.346000\n",
      "lr 1.000000e-07 reg 5.200000e+04 train accuracy: 0.325429 val accuracy: 0.335000\n",
      "lr 1.000000e-07 reg 5.300000e+04 train accuracy: 0.323571 val accuracy: 0.333000\n",
      "lr 2.000000e-07 reg 7.000000e+03 train accuracy: 0.380571 val accuracy: 0.388000\n",
      "lr 2.000000e-07 reg 8.000000e+03 train accuracy: 0.376143 val accuracy: 0.397000\n",
      "lr 2.000000e-07 reg 9.000000e+03 train accuracy: 0.378102 val accuracy: 0.387000\n",
      "lr 2.000000e-07 reg 1.000000e+04 train accuracy: 0.372837 val accuracy: 0.390000\n",
      "lr 2.000000e-07 reg 1.100000e+04 train accuracy: 0.371143 val accuracy: 0.377000\n",
      "lr 2.000000e-07 reg 1.200000e+04 train accuracy: 0.368429 val accuracy: 0.378000\n",
      "lr 2.000000e-07 reg 1.300000e+04 train accuracy: 0.367061 val accuracy: 0.379000\n",
      "lr 2.000000e-07 reg 4.700000e+04 train accuracy: 0.334408 val accuracy: 0.345000\n",
      "lr 2.000000e-07 reg 4.800000e+04 train accuracy: 0.330143 val accuracy: 0.345000\n",
      "lr 2.000000e-07 reg 4.900000e+04 train accuracy: 0.330163 val accuracy: 0.343000\n",
      "lr 2.000000e-07 reg 5.000000e+04 train accuracy: 0.326816 val accuracy: 0.344000\n",
      "lr 2.000000e-07 reg 5.100000e+04 train accuracy: 0.322796 val accuracy: 0.340000\n",
      "lr 2.000000e-07 reg 5.200000e+04 train accuracy: 0.322878 val accuracy: 0.337000\n",
      "lr 2.000000e-07 reg 5.300000e+04 train accuracy: 0.329327 val accuracy: 0.332000\n",
      "lr 5.000000e-07 reg 7.000000e+03 train accuracy: 0.373592 val accuracy: 0.384000\n",
      "lr 5.000000e-07 reg 8.000000e+03 train accuracy: 0.379204 val accuracy: 0.391000\n",
      "lr 5.000000e-07 reg 9.000000e+03 train accuracy: 0.375204 val accuracy: 0.394000\n",
      "lr 5.000000e-07 reg 1.000000e+04 train accuracy: 0.370286 val accuracy: 0.373000\n",
      "lr 5.000000e-07 reg 1.100000e+04 train accuracy: 0.368592 val accuracy: 0.375000\n",
      "lr 5.000000e-07 reg 1.200000e+04 train accuracy: 0.365184 val accuracy: 0.379000\n",
      "lr 5.000000e-07 reg 1.300000e+04 train accuracy: 0.365469 val accuracy: 0.372000\n",
      "lr 5.000000e-07 reg 4.700000e+04 train accuracy: 0.332408 val accuracy: 0.340000\n",
      "lr 5.000000e-07 reg 4.800000e+04 train accuracy: 0.326347 val accuracy: 0.339000\n",
      "lr 5.000000e-07 reg 4.900000e+04 train accuracy: 0.318327 val accuracy: 0.329000\n",
      "lr 5.000000e-07 reg 5.000000e+04 train accuracy: 0.330490 val accuracy: 0.343000\n",
      "lr 5.000000e-07 reg 5.100000e+04 train accuracy: 0.323939 val accuracy: 0.333000\n",
      "lr 5.000000e-07 reg 5.200000e+04 train accuracy: 0.315327 val accuracy: 0.340000\n",
      "lr 5.000000e-07 reg 5.300000e+04 train accuracy: 0.331837 val accuracy: 0.338000\n",
      "best validation accuracy achieved during cross-validation: 0.397000\n"
     ]
    },
    {
     "name": "stderr",
     "output_type": "stream",
     "text": [
      "\n"
     ]
    }
   ],
   "source": [
    "# Use the validation set to tune hyperparameters (regularization strength and\n",
    "# learning rate). You should experiment with different ranges for the learning\n",
    "# rates and regularization strengths; if you are careful you should be able to\n",
    "# get a classification accuracy of over 0.35 on the validation set.\n",
    "# from cs231n.classifiers import Softmax\n",
    "results = {}\n",
    "best_val = -1\n",
    "best_softmax = None\n",
    "learning_rates = [1e-7, 2e-7, 5e-7]\n",
    "#regularization_strengths = [5e4, 1e8]\n",
    "regularization_strengths =[(1+0.1*i)*1e4 for i in range(-3,4)] + [(5+0.1*i)*1e4 for i in range(-3,4)]\n",
    "\n",
    "################################################################################\n",
    "# TODO:                                                                        #\n",
    "# Use the validation set to set the learning rate and regularization strength. #\n",
    "# This should be identical to the validation that you did for the SVM; save    #\n",
    "# the best trained softmax classifer in best_softmax.                          #\n",
    "################################################################################\n",
    "# *****START OF YOUR CODE (DO NOT DELETE/MODIFY THIS LINE)*****\n",
    "learning_rates = tqdm(learning_rates)\n",
    "regularization_strengths = tqdm(regularization_strengths)\n",
    "for lr in learning_rates:\n",
    "    for rs in regularization_strengths:\n",
    "        softmax = Softmax()\n",
    "        softmax.train(X_train, y_train, lr, rs, num_iters=2000)\n",
    "        y_train_pred = softmax.predict(X_train)\n",
    "        train_accuracy = np.mean(y_train == y_train_pred)\n",
    "        y_val_pred = softmax.predict(X_val)\n",
    "        val_accuracy = np.mean(y_val == y_val_pred)\n",
    "        if val_accuracy > best_val:\n",
    "            best_val = val_accuracy\n",
    "            best_softmax = softmax           \n",
    "        results[(lr,rs)] = train_accuracy, val_accuracy\n",
    "pass\n",
    "\n",
    "# *****END OF YOUR CODE (DO NOT DELETE/MODIFY THIS LINE)*****\n",
    "    \n",
    "# Print out results.\n",
    "for lr, reg in sorted(results):\n",
    "    train_accuracy, val_accuracy = results[(lr, reg)]\n",
    "    print('lr %e reg %e train accuracy: %f val accuracy: %f' % (\n",
    "                lr, reg, train_accuracy, val_accuracy))\n",
    "    \n",
    "print('best validation accuracy achieved during cross-validation: %f' % best_val)"
   ]
  },
  {
   "cell_type": "code",
   "execution_count": 13,
   "metadata": {
    "ExecuteTime": {
     "end_time": "2019-09-15T08:42:31.625811Z",
     "start_time": "2019-09-15T08:42:31.587673Z"
    },
    "scrolled": true
   },
   "outputs": [
    {
     "name": "stdout",
     "output_type": "stream",
     "text": [
      "softmax on raw pixels final test set accuracy: 0.379000\n"
     ]
    }
   ],
   "source": [
    "# evaluate on test set\n",
    "# Evaluate the best softmax on test set\n",
    "y_test_pred = best_softmax.predict(X_test)\n",
    "test_accuracy = np.mean(y_test == y_test_pred)\n",
    "print('softmax on raw pixels final test set accuracy: %f' % (test_accuracy, ))"
   ]
  },
  {
   "cell_type": "markdown",
   "metadata": {
    "tags": [
     "pdf-inline"
    ]
   },
   "source": [
    "**Inline Question 2** - *True or False*\n",
    "\n",
    "Suppose the overall training loss is defined as the sum of the per-datapoint loss over all training examples. It is possible to add a new datapoint to a training set that would leave the SVM loss unchanged, but this is not the case with the Softmax classifier loss.\n",
    "\n",
    "$\\color{blue}{\\textit Your Answer:}$True\n",
    "\n",
    "\n",
    "$\\color{blue}{\\textit Your Explanation:}$思考SVM和Softmax regression损失函数的定义，对于SVM而言，其对分类正确的图片的不计入loss；但对与softmax而言，不论分类是否正确，loss总会是存在的，即使loss趋近于0，整体而言损失值变化了！\n",
    "\n"
   ]
  },
  {
   "cell_type": "markdown",
   "metadata": {
    "ExecuteTime": {
     "end_time": "2019-09-15T08:36:15.093433Z",
     "start_time": "2019-09-15T08:36:15.078331Z"
    }
   },
   "source": [
    "### weight visualization"
   ]
  },
  {
   "cell_type": "code",
   "execution_count": 14,
   "metadata": {
    "ExecuteTime": {
     "end_time": "2019-09-15T08:42:32.309965Z",
     "start_time": "2019-09-15T08:42:31.628485Z"
    },
    "scrolled": false
   },
   "outputs": [
    {
     "data": {
      "image/png": "[encoded data removed]",
      "text/plain": [
       "<Figure size 432x288 with 10 Axes>"
      ]
     },
     "metadata": {
      "needs_background": "light"
     },
     "output_type": "display_data"
    }
   ],
   "source": [
    "# Visualize the learned weights for each class\n",
    "w = best_softmax.W[:-1,:] # strip out the bias\n",
    "w = w.reshape(32, 32, 3, 10)\n",
    "\n",
    "w_min, w_max = np.min(w), np.max(w)\n",
    "\n",
    "classes = ['plane', 'car', 'bird', 'cat', 'deer', 'dog', 'frog', 'horse', 'ship', 'truck']\n",
    "for i in range(10):\n",
    "    plt.subplot(2, 5, i + 1)\n",
    "    \n",
    "    # Rescale the weights to be between 0 and 255\n",
    "    wimg = 255.0 * (w[:, :, :, i].squeeze() - w_min) / (w_max - w_min)\n",
    "    plt.imshow(wimg.astype('uint8'))\n",
    "    plt.axis('off')\n",
    "    plt.title(classes[i])"
   ]
  }
 ],
 "metadata": {
  "kernelspec": {
   "display_name": "tf",
   "language": "python",
   "name": "python3_tf"
  },
  "language_info": {
   "codemirror_mode": {
    "name": "ipython",
    "version": 3
   },
   "file_extension": ".py",
   "mimetype": "text/x-python",
   "name": "python",
   "nbconvert_exporter": "python",
   "pygments_lexer": "ipython3",
   "version": "3.5.6"
  },
  "latex_envs": {
   "LaTeX_envs_menu_present": true,
   "autoclose": false,
   "autocomplete": true,
   "bibliofile": "biblio.bib",
   "cite_by": "apalike",
   "current_citInitial": 1,
   "eqLabelWithNumbers": true,
   "eqNumInitial": 1,
   "hotkeys": {
    "equation": "Ctrl-E",
    "itemize": "Ctrl-I"
   },
   "labels_anchors": false,
   "latex_user_defs": false,
   "report_style_numbering": false,
   "user_envs_cfg": false
  },
  "toc": {
   "base_numbering": 1,
   "nav_menu": {},
   "number_sections": true,
   "sideBar": true,
   "skip_h1_title": false,
   "title_cell": "Table of Contents",
   "title_sidebar": "Contents",
   "toc_cell": true,
   "toc_position": {
    "height": "calc(100% - 180px)",
    "left": "10px",
    "top": "150px",
    "width": "287.5px"
   },
   "toc_section_display": true,
   "toc_window_display": true
  }
 },
 "nbformat": 4,
 "nbformat_minor": 1
}
