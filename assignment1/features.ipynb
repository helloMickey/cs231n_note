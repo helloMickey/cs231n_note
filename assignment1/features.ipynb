{
 "cells": [
  {
   "cell_type": "markdown",
   "metadata": {
    "toc": true
   },
   "source": [
    "<h1>Table of Contents<span class=\"tocSkip\"></span></h1>\n",
    "<div class=\"toc\"><ul class=\"toc-item\"><li><span><a href=\"#Image-features-exercise\" data-toc-modified-id=\"Image-features-exercise-1\"><span class=\"toc-item-num\">1&nbsp;&nbsp;</span>Image features exercise</a></span><ul class=\"toc-item\"><li><span><a href=\"#Load-data\" data-toc-modified-id=\"Load-data-1.1\"><span class=\"toc-item-num\">1.1&nbsp;&nbsp;</span>Load data</a></span></li><li><span><a href=\"#hog-&amp;-hsv-features\" data-toc-modified-id=\"hog-&amp;-hsv-features-1.2\"><span class=\"toc-item-num\">1.2&nbsp;&nbsp;</span>hog &amp; hsv features</a></span></li><li><span><a href=\"#Extract-Features\" data-toc-modified-id=\"Extract-Features-1.3\"><span class=\"toc-item-num\">1.3&nbsp;&nbsp;</span>Extract Features</a></span></li><li><span><a href=\"#Train-SVM-on-features\" data-toc-modified-id=\"Train-SVM-on-features-1.4\"><span class=\"toc-item-num\">1.4&nbsp;&nbsp;</span>Train SVM on features</a></span><ul class=\"toc-item\"><li><span><a href=\"#Inline-question-1:\" data-toc-modified-id=\"Inline-question-1:-1.4.1\"><span class=\"toc-item-num\">1.4.1&nbsp;&nbsp;</span>Inline question 1:</a></span></li></ul></li><li><span><a href=\"#Neural-Network-on-image-features\" data-toc-modified-id=\"Neural-Network-on-image-features-1.5\"><span class=\"toc-item-num\">1.5&nbsp;&nbsp;</span>Neural Network on image features</a></span></li></ul></li></ul></div>"
   ]
  },
  {
   "cell_type": "markdown",
   "metadata": {
    "tags": [
     "pdf-title"
    ]
   },
   "source": [
    "# Image features exercise\n",
    "*Complete and hand in this completed worksheet (including its outputs and any supporting code outside of the worksheet) with your assignment submission. For more details see the [assignments page](http://vision.stanford.edu/teaching/cs231n/assignments.html) on the course website.*\n",
    "\n",
    "We have seen that we can achieve reasonable performance on an image classification task by training a linear classifier on the pixels of the input image. In this exercise we will show that we can improve our classification performance by training linear classifiers **not on raw pixels but on features** that are computed from the raw pixels.\n",
    "\n",
    "All of your work for this exercise will be done in this notebook."
   ]
  },
  {
   "cell_type": "code",
   "execution_count": 1,
   "metadata": {
    "ExecuteTime": {
     "end_time": "2019-09-15T13:59:05.785393Z",
     "start_time": "2019-09-15T13:59:05.444193Z"
    },
    "tags": [
     "pdf-ignore"
    ]
   },
   "outputs": [],
   "source": [
    "import random\n",
    "import numpy as np\n",
    "from cs231n.data_utils import load_CIFAR10\n",
    "import matplotlib\n",
    "import matplotlib.pyplot as plt\n",
    "\n",
    "\n",
    "%matplotlib inline\n",
    "plt.rcParams['figure.figsize'] = (10.0, 8.0) # set default size of plots\n",
    "plt.rcParams['image.interpolation'] = 'nearest'\n",
    "plt.rcParams['image.cmap'] = 'gray'\n",
    "\n",
    "# for auto-reloading extenrnal modules\n",
    "# see http://stackoverflow.com/questions/1907993/autoreload-of-modules-in-ipython\n",
    "%load_ext autoreload\n",
    "%autoreload 2"
   ]
  },
  {
   "cell_type": "markdown",
   "metadata": {
    "tags": [
     "pdf-ignore"
    ]
   },
   "source": [
    "## Load data\n",
    "Similar to previous exercises, we will load CIFAR-10 data from disk."
   ]
  },
  {
   "cell_type": "code",
   "execution_count": 2,
   "metadata": {
    "ExecuteTime": {
     "end_time": "2019-09-15T13:59:07.791848Z",
     "start_time": "2019-09-15T13:59:05.787303Z"
    },
    "code_folding": [],
    "tags": [
     "pdf-ignore"
    ]
   },
   "outputs": [],
   "source": [
    "def get_CIFAR10_data(num_training=49000, num_validation=1000, num_test=1000):\n",
    "    # Load the raw CIFAR-10 data\n",
    "    cifar10_dir = 'cs231n/datasets/cifar-10-batches-py'\n",
    "\n",
    "    # Cleaning up variables to prevent loading data multiple times (which may cause memory issue)\n",
    "    try:\n",
    "       del X_train, y_train\n",
    "       del X_test, y_test\n",
    "       print('Clear previously loaded data.')\n",
    "    except:\n",
    "       pass\n",
    "\n",
    "    X_train, y_train, X_test, y_test = load_CIFAR10(cifar10_dir)\n",
    "    \n",
    "    # Subsample the data\n",
    "    mask = list(range(num_training, num_training + num_validation))\n",
    "    X_val = X_train[mask]\n",
    "    y_val = y_train[mask]\n",
    "    mask = list(range(num_training))\n",
    "    X_train = X_train[mask]\n",
    "    y_train = y_train[mask]\n",
    "    mask = list(range(num_test))\n",
    "    X_test = X_test[mask]\n",
    "    y_test = y_test[mask]\n",
    "    \n",
    "    return X_train, y_train, X_val, y_val, X_test, y_test\n",
    "\n",
    "X_train, y_train, X_val, y_val, X_test, y_test = get_CIFAR10_data()"
   ]
  },
  {
   "cell_type": "markdown",
   "metadata": {},
   "source": [
    "## hog & hsv features\n",
    "`cs231n.features`"
   ]
  },
  {
   "cell_type": "code",
   "execution_count": 3,
   "metadata": {
    "ExecuteTime": {
     "end_time": "2019-09-15T13:59:07.822007Z",
     "start_time": "2019-09-15T13:59:07.796544Z"
    },
    "code_folding": [
     0
    ]
   },
   "outputs": [],
   "source": [
    "def rgb2gray(rgb):\n",
    "    \"\"\"Convert RGB image to grayscale\n",
    "\n",
    "      Parameters:\n",
    "        rgb : RGB image\n",
    "\n",
    "      Returns:\n",
    "        gray : grayscale image\n",
    "\n",
    "    \"\"\"\n",
    "    return np.dot(rgb[...,:3], [0.299, 0.587, 0.144])"
   ]
  },
  {
   "cell_type": "code",
   "execution_count": 4,
   "metadata": {
    "ExecuteTime": {
     "end_time": "2019-09-15T13:59:07.842002Z",
     "start_time": "2019-09-15T13:59:07.824565Z"
    },
    "code_folding": [
     0
    ]
   },
   "outputs": [],
   "source": [
    "def hog_feature(im):\n",
    "    \"\"\"Compute Histogram of Gradient (HOG) feature for an image\n",
    "\n",
    "         Modified from skimage.feature.hog\n",
    "         http://pydoc.net/Python/scikits-image/0.4.2/skimage.feature.hog\n",
    "\n",
    "       Reference:\n",
    "         Histograms of Oriented Gradients for Human Detection\n",
    "         Navneet Dalal and Bill Triggs, CVPR 2005\n",
    "\n",
    "      Parameters:\n",
    "        im : an input grayscale or rgb image\n",
    "\n",
    "      Returns:\n",
    "        feat: Histogram of Gradient (HOG) feature\n",
    "\n",
    "    \"\"\"\n",
    "\n",
    "    # convert rgb to grayscale if needed\n",
    "    if im.ndim == 3:\n",
    "        image = rgb2gray(im)\n",
    "    else:\n",
    "        image = np.at_least_2d(im)\n",
    "\n",
    "    sx, sy = image.shape # image size\n",
    "    orientations = 9 # number of gradient bins\n",
    "    cx, cy = (8, 8) # pixels per cell\n",
    "\n",
    "    gx = np.zeros(image.shape)\n",
    "    gy = np.zeros(image.shape)\n",
    "    gx[:, :-1] = np.diff(image, n=1, axis=1) # compute gradient on x-direction\n",
    "    gy[:-1, :] = np.diff(image, n=1, axis=0) # compute gradient on y-direction\n",
    "    grad_mag = np.sqrt(gx ** 2 + gy ** 2) # gradient magnitude\n",
    "    grad_ori = np.arctan2(gy, (gx + 1e-15)) * (180 / np.pi) + 90 # gradient orientation\n",
    "\n",
    "    n_cellsx = int(np.floor(sx / cx))  # number of cells in x\n",
    "    n_cellsy = int(np.floor(sy / cy))  # number of cells in y\n",
    "    # compute orientations integral images\n",
    "    orientation_histogram = np.zeros((n_cellsx, n_cellsy, orientations))\n",
    "    for i in range(orientations):\n",
    "        # create new integral image for this orientation\n",
    "        # isolate orientations in this range\n",
    "        temp_ori = np.where(grad_ori < 180 / orientations * (i + 1),\n",
    "                            grad_ori, 0)\n",
    "        temp_ori = np.where(grad_ori >= 180 / orientations * i,\n",
    "                            temp_ori, 0)\n",
    "        # select magnitudes for those orientations\n",
    "        cond2 = temp_ori > 0\n",
    "        temp_mag = np.where(cond2, grad_mag, 0)\n",
    "        orientation_histogram[:,:,i] = uniform_filter(temp_mag, size=(cx, cy))[round(cx/2)::cx, round(cy/2)::cy].T\n",
    "\n",
    "    return orientation_histogram.ravel()"
   ]
  },
  {
   "cell_type": "code",
   "execution_count": 5,
   "metadata": {
    "ExecuteTime": {
     "end_time": "2019-09-15T13:59:07.856595Z",
     "start_time": "2019-09-15T13:59:07.844381Z"
    },
    "code_folding": [
     0
    ]
   },
   "outputs": [],
   "source": [
    "def color_histogram_hsv(im, nbin=10, xmin=0, xmax=255, normalized=True):\n",
    "    \"\"\"\n",
    "    Compute color histogram for an image using hue.\n",
    "\n",
    "    Inputs:\n",
    "    - im: H x W x C array of pixel data for an RGB image.\n",
    "    - nbin: Number of histogram bins. (default: 10)\n",
    "    - xmin: Minimum pixel value (default: 0)\n",
    "    - xmax: Maximum pixel value (default: 255)\n",
    "    - normalized: Whether to normalize the histogram (default: True)\n",
    "\n",
    "    Returns:\n",
    "      1D vector of length nbin giving the color histogram over the hue of the\n",
    "      input image.\n",
    "    \"\"\"\n",
    "    ndim = im.ndim\n",
    "    bins = np.linspace(xmin, xmax, nbin+1)\n",
    "    hsv = matplotlib.colors.rgb_to_hsv(im/xmax) * xmax\n",
    "    imhist, bin_edges = np.histogram(hsv[:,:,0], bins=bins, density=normalized)\n",
    "    imhist = imhist * np.diff(bin_edges)\n",
    "\n",
    "    # return histogram\n",
    "    return imhist"
   ]
  },
  {
   "cell_type": "code",
   "execution_count": 6,
   "metadata": {
    "ExecuteTime": {
     "end_time": "2019-09-15T13:59:07.985979Z",
     "start_time": "2019-09-15T13:59:07.858873Z"
    },
    "code_folding": [
     0
    ]
   },
   "outputs": [],
   "source": [
    "from scipy.ndimage import uniform_filter\n",
    "\n",
    "def extract_features(imgs, feature_fns, verbose=False):\n",
    "    \"\"\"\n",
    "    Given pixel data for images and several feature functions that can operate on\n",
    "    single images, apply all feature functions to all images, concatenating the\n",
    "    feature vectors for each image and storing the features for all images in\n",
    "    a single matrix.\n",
    "\n",
    "    Inputs:\n",
    "    - imgs: N x H X W X C array of pixel data for N images.\n",
    "    - feature_fns: List of k feature functions. The ith feature function should\n",
    "      take as input an H x W x D array and return a (one-dimensional) array of\n",
    "      length F_i.\n",
    "    - verbose: Boolean; if true, print progress.\n",
    "\n",
    "    Returns:\n",
    "    An array of shape (N, F_1 + ... + F_k) where each column is the concatenation\n",
    "    of all features for a single image.\n",
    "    \"\"\"\n",
    "    num_images = imgs.shape[0]\n",
    "    if num_images == 0:\n",
    "        return np.array([])\n",
    "\n",
    "    # Use the first image to determine feature dimensions\n",
    "    feature_dims = []\n",
    "    first_image_features = []\n",
    "    for feature_fn in feature_fns:\n",
    "        feats = feature_fn(imgs[0].squeeze())\n",
    "        assert len(feats.shape) == 1, 'Feature functions must be one-dimensional'\n",
    "        feature_dims.append(feats.size)\n",
    "        first_image_features.append(feats)\n",
    "\n",
    "    # Now that we know the dimensions of the features, we can allocate a single\n",
    "    # big array to store all features as columns.\n",
    "    total_feature_dim = sum(feature_dims)\n",
    "    imgs_features = np.zeros((num_images, total_feature_dim))\n",
    "    imgs_features[0] = np.hstack(first_image_features).T\n",
    "\n",
    "    # Extract features for the rest of the images.\n",
    "    for i in range(1, num_images):\n",
    "        idx = 0\n",
    "        for feature_fn, feature_dim in zip(feature_fns, feature_dims):\n",
    "            next_idx = idx + feature_dim\n",
    "            imgs_features[i, idx:next_idx] = feature_fn(imgs[i].squeeze())\n",
    "            idx = next_idx\n",
    "        if verbose and i % 1000 == 999:\n",
    "            print('Done extracting features for %d / %d images' % (i+1, num_images))\n",
    "\n",
    "    return imgs_features"
   ]
  },
  {
   "cell_type": "markdown",
   "metadata": {
    "tags": [
     "pdf-ignore"
    ]
   },
   "source": [
    "## Extract Features\n",
    "For each image we will compute a Histogram of Oriented\n",
    "Gradients (HOG) as well as a color histogram using the hue channel in HSV\n",
    "color space. We form our final feature vector for each image by concatenating\n",
    "the HOG and color histogram feature vectors.\n",
    "\n",
    "Roughly speaking, HOG should capture the texture of the image while ignoring\n",
    "color information, and the color histogram represents the color of the input\n",
    "image while ignoring texture. As a result, we expect that using both together\n",
    "ought to work better than using either alone. Verifying this assumption would\n",
    "be a good thing to try for your own interest.\n",
    "\n",
    "The `hog_feature` and `color_histogram_hsv` functions both operate on a single\n",
    "image and return a feature vector for that image. The extract_features\n",
    "function takes a set of images and a list of feature functions and evaluates\n",
    "each feature function on each image, storing the results in a matrix where\n",
    "each column is the concatenation of all feature vectors for a single image."
   ]
  },
  {
   "cell_type": "code",
   "execution_count": 7,
   "metadata": {
    "ExecuteTime": {
     "end_time": "2019-09-15T14:00:05.093981Z",
     "start_time": "2019-09-15T13:59:07.987864Z"
    },
    "scrolled": true,
    "tags": [
     "pdf-ignore"
    ]
   },
   "outputs": [
    {
     "name": "stdout",
     "output_type": "stream",
     "text": [
      "Done extracting features for 1000 / 49000 images\n",
      "Done extracting features for 2000 / 49000 images\n",
      "Done extracting features for 3000 / 49000 images\n",
      "Done extracting features for 4000 / 49000 images\n",
      "Done extracting features for 5000 / 49000 images\n",
      "Done extracting features for 6000 / 49000 images\n",
      "Done extracting features for 7000 / 49000 images\n",
      "Done extracting features for 8000 / 49000 images\n",
      "Done extracting features for 9000 / 49000 images\n",
      "Done extracting features for 10000 / 49000 images\n",
      "Done extracting features for 11000 / 49000 images\n",
      "Done extracting features for 12000 / 49000 images\n",
      "Done extracting features for 13000 / 49000 images\n",
      "Done extracting features for 14000 / 49000 images\n",
      "Done extracting features for 15000 / 49000 images\n",
      "Done extracting features for 16000 / 49000 images\n",
      "Done extracting features for 17000 / 49000 images\n",
      "Done extracting features for 18000 / 49000 images\n",
      "Done extracting features for 19000 / 49000 images\n",
      "Done extracting features for 20000 / 49000 images\n",
      "Done extracting features for 21000 / 49000 images\n",
      "Done extracting features for 22000 / 49000 images\n",
      "Done extracting features for 23000 / 49000 images\n",
      "Done extracting features for 24000 / 49000 images\n",
      "Done extracting features for 25000 / 49000 images\n",
      "Done extracting features for 26000 / 49000 images\n",
      "Done extracting features for 27000 / 49000 images\n",
      "Done extracting features for 28000 / 49000 images\n",
      "Done extracting features for 29000 / 49000 images\n",
      "Done extracting features for 30000 / 49000 images\n",
      "Done extracting features for 31000 / 49000 images\n",
      "Done extracting features for 32000 / 49000 images\n",
      "Done extracting features for 33000 / 49000 images\n",
      "Done extracting features for 34000 / 49000 images\n",
      "Done extracting features for 35000 / 49000 images\n",
      "Done extracting features for 36000 / 49000 images\n",
      "Done extracting features for 37000 / 49000 images\n",
      "Done extracting features for 38000 / 49000 images\n",
      "Done extracting features for 39000 / 49000 images\n",
      "Done extracting features for 40000 / 49000 images\n",
      "Done extracting features for 41000 / 49000 images\n",
      "Done extracting features for 42000 / 49000 images\n",
      "Done extracting features for 43000 / 49000 images\n",
      "Done extracting features for 44000 / 49000 images\n",
      "Done extracting features for 45000 / 49000 images\n",
      "Done extracting features for 46000 / 49000 images\n",
      "Done extracting features for 47000 / 49000 images\n",
      "Done extracting features for 48000 / 49000 images\n",
      "Done extracting features for 49000 / 49000 images\n"
     ]
    }
   ],
   "source": [
    "# from cs231n.features import *\n",
    "\n",
    "num_color_bins = 10 # Number of bins in the color histogram\n",
    "feature_fns = [hog_feature, lambda img: color_histogram_hsv(img, nbin=num_color_bins)]\n",
    "X_train_feats = extract_features(X_train, feature_fns, verbose=True)\n",
    "X_val_feats = extract_features(X_val, feature_fns)\n",
    "X_test_feats = extract_features(X_test, feature_fns)\n",
    "\n",
    "# Preprocessing: Subtract the mean feature\n",
    "mean_feat = np.mean(X_train_feats, axis=0, keepdims=True)\n",
    "X_train_feats -= mean_feat\n",
    "X_val_feats -= mean_feat\n",
    "X_test_feats -= mean_feat\n",
    "\n",
    "# Preprocessing: Divide by standard deviation. This ensures that each feature\n",
    "# has roughly the same scale.\n",
    "std_feat = np.std(X_train_feats, axis=0, keepdims=True)\n",
    "X_train_feats /= std_feat\n",
    "X_val_feats /= std_feat\n",
    "X_test_feats /= std_feat\n",
    "\n",
    "# Preprocessing: Add a bias dimension\n",
    "X_train_feats = np.hstack([X_train_feats, np.ones((X_train_feats.shape[0], 1))])\n",
    "X_val_feats = np.hstack([X_val_feats, np.ones((X_val_feats.shape[0], 1))])\n",
    "X_test_feats = np.hstack([X_test_feats, np.ones((X_test_feats.shape[0], 1))])"
   ]
  },
  {
   "cell_type": "markdown",
   "metadata": {},
   "source": [
    "## Train SVM on features\n",
    "Using the multiclass SVM code developed earlier in the assignment, train SVMs on top of the features extracted above; this should achieve better results than training SVMs directly on top of raw pixels."
   ]
  },
  {
   "cell_type": "code",
   "execution_count": 8,
   "metadata": {
    "ExecuteTime": {
     "end_time": "2019-09-15T14:01:23.232805Z",
     "start_time": "2019-09-15T14:00:05.096815Z"
    },
    "tags": [
     "code"
    ]
   },
   "outputs": [
    {
     "name": "stdout",
     "output_type": "stream",
     "text": [
      "lr 5.000000e-09 reg 2.000000e+06 train accuracy: 0.411571 val accuracy: 0.410000\n",
      "lr 5.000000e-09 reg 3.000000e+06 train accuracy: 0.410980 val accuracy: 0.417000\n",
      "lr 5.000000e-09 reg 4.000000e+06 train accuracy: 0.414531 val accuracy: 0.417000\n",
      "lr 5.000000e-09 reg 5.000000e+06 train accuracy: 0.413000 val accuracy: 0.421000\n",
      "lr 5.000000e-09 reg 6.000000e+06 train accuracy: 0.407571 val accuracy: 0.402000\n",
      "lr 5.000000e-09 reg 7.000000e+06 train accuracy: 0.414469 val accuracy: 0.407000\n",
      "lr 5.000000e-09 reg 8.000000e+06 train accuracy: 0.411612 val accuracy: 0.415000\n",
      "lr 7.500000e-09 reg 2.000000e+06 train accuracy: 0.410878 val accuracy: 0.411000\n",
      "lr 7.500000e-09 reg 3.000000e+06 train accuracy: 0.418816 val accuracy: 0.411000\n",
      "lr 7.500000e-09 reg 4.000000e+06 train accuracy: 0.409816 val accuracy: 0.398000\n",
      "lr 7.500000e-09 reg 5.000000e+06 train accuracy: 0.413388 val accuracy: 0.411000\n",
      "lr 7.500000e-09 reg 6.000000e+06 train accuracy: 0.414163 val accuracy: 0.417000\n",
      "lr 7.500000e-09 reg 7.000000e+06 train accuracy: 0.413755 val accuracy: 0.416000\n",
      "lr 7.500000e-09 reg 8.000000e+06 train accuracy: 0.416061 val accuracy: 0.406000\n",
      "lr 1.000000e-08 reg 2.000000e+06 train accuracy: 0.413163 val accuracy: 0.410000\n",
      "lr 1.000000e-08 reg 3.000000e+06 train accuracy: 0.414959 val accuracy: 0.409000\n",
      "lr 1.000000e-08 reg 4.000000e+06 train accuracy: 0.407592 val accuracy: 0.403000\n",
      "lr 1.000000e-08 reg 5.000000e+06 train accuracy: 0.408143 val accuracy: 0.404000\n",
      "lr 1.000000e-08 reg 6.000000e+06 train accuracy: 0.407306 val accuracy: 0.415000\n",
      "lr 1.000000e-08 reg 7.000000e+06 train accuracy: 0.406347 val accuracy: 0.387000\n",
      "lr 1.000000e-08 reg 8.000000e+06 train accuracy: 0.416143 val accuracy: 0.411000\n",
      "best validation accuracy achieved during cross-validation: 0.421000\n"
     ]
    }
   ],
   "source": [
    "# Use the validation set to tune the learning rate and regularization strength\n",
    "from cs231n.classifiers.linear_classifier import LinearSVM\n",
    "\n",
    "# learning_rates = [1e-9, 1e-8, 1e-7]\n",
    "# regularization_strengths = [5e4, 5e5, 5e6]\n",
    "learning_rates =[5e-9, 7.5e-9, 1e-8]\n",
    "regularization_strengths = [(5+i)*1e6 for i in range(-3,4)]\n",
    "\n",
    "results = {}\n",
    "best_val = -1\n",
    "best_svm = None\n",
    "\n",
    "################################################################################\n",
    "# TODO:                                                                        #\n",
    "# Use the validation set to set the learning rate and regularization strength. #\n",
    "# This should be identical to the validation that you did for the SVM; save    #\n",
    "# the best trained classifer in best_svm. You might also want to play          #\n",
    "# with different numbers of bins in the color histogram. If you are careful    #\n",
    "# you should be able to get accuracy of near 0.44 on the validation set.       #\n",
    "################################################################################\n",
    "# *****START OF YOUR CODE (DO NOT DELETE/MODIFY THIS LINE)*****\n",
    "for rs in regularization_strengths:\n",
    "    for lr in learning_rates:\n",
    "        svm = LinearSVM()\n",
    "        loss_hist = svm.train(X_train_feats, y_train, lr, rs, num_iters=6000)\n",
    "        y_train_pred = svm.predict(X_train_feats)\n",
    "        train_accuracy = np.mean(y_train == y_train_pred)\n",
    "        y_val_pred = svm.predict(X_val_feats)\n",
    "        val_accuracy = np.mean(y_val == y_val_pred)\n",
    "        if val_accuracy > best_val:\n",
    "            best_val = val_accuracy\n",
    "            best_svm = svm           \n",
    "        results[(lr,rs)] = train_accuracy, val_accuracy\n",
    "pass\n",
    "\n",
    "# *****END OF YOUR CODE (DO NOT DELETE/MODIFY THIS LINE)*****\n",
    "\n",
    "# Print out results.\n",
    "for lr, reg in sorted(results):\n",
    "    train_accuracy, val_accuracy = results[(lr, reg)]\n",
    "    print('lr %e reg %e train accuracy: %f val accuracy: %f' % (\n",
    "                lr, reg, train_accuracy, val_accuracy))\n",
    "    \n",
    "print('best validation accuracy achieved during cross-validation: %f' % best_val)"
   ]
  },
  {
   "cell_type": "code",
   "execution_count": 9,
   "metadata": {
    "ExecuteTime": {
     "end_time": "2019-09-15T14:01:23.280967Z",
     "start_time": "2019-09-15T14:01:23.238617Z"
    }
   },
   "outputs": [
    {
     "name": "stdout",
     "output_type": "stream",
     "text": [
      "0.419\n"
     ]
    }
   ],
   "source": [
    "# Evaluate your trained SVM on the test set\n",
    "y_test_pred = best_svm.predict(X_test_feats)\n",
    "test_accuracy = np.mean(y_test == y_test_pred)\n",
    "print(test_accuracy)"
   ]
  },
  {
   "cell_type": "code",
   "execution_count": 10,
   "metadata": {
    "ExecuteTime": {
     "end_time": "2019-09-15T14:01:28.650931Z",
     "start_time": "2019-09-15T14:01:23.283519Z"
    }
   },
   "outputs": [
    {
     "data": {
      "image/png": "[encoded data removed]",
      "text/plain": [
       "<Figure size 432x288 with 100 Axes>"
      ]
     },
     "metadata": {
      "needs_background": "light"
     },
     "output_type": "display_data"
    }
   ],
   "source": [
    "# An important way to gain intuition about how an algorithm works is to\n",
    "# visualize the mistakes that it makes. In this visualization, we show examples\n",
    "# of images that are misclassified by our current system. The first column\n",
    "# shows images that our system labeled as \"plane\" but whose true label is\n",
    "# something other than \"plane\".\n",
    "\n",
    "examples_per_class = 10\n",
    "classes = ['plane', 'car', 'bird', 'cat', 'deer', 'dog', 'frog', 'horse', 'ship', 'truck']\n",
    "for cls, cls_name in enumerate(classes):\n",
    "    idxs = np.where((y_test != cls) & (y_test_pred == cls))[0]\n",
    "    idxs = np.random.choice(idxs, examples_per_class, replace=False)\n",
    "    for i, idx in enumerate(idxs):\n",
    "        plt.subplot(examples_per_class, len(classes), i * len(classes) + cls + 1)\n",
    "        plt.imshow(X_test[idx].astype('uint8'))\n",
    "        plt.axis('off')\n",
    "        if i == 0:\n",
    "            plt.title(cls_name)\n",
    "plt.show()"
   ]
  },
  {
   "cell_type": "markdown",
   "metadata": {
    "tags": [
     "pdf-inline"
    ]
   },
   "source": [
    "### Inline question 1:\n",
    "Describe the misclassification results that you see. Do they make sense?\n",
    "\n",
    "\n",
    "$\\color{blue}{\\textit Your Answer:}$\n",
    "\n",
    "\n"
   ]
  },
  {
   "cell_type": "markdown",
   "metadata": {},
   "source": [
    "## Neural Network on image features\n",
    "Earlier in this assigment we saw that training a two-layer neural network on raw pixels achieved better classification performance than linear classifiers on raw pixels. In this notebook we have seen that linear classifiers on image features outperform linear classifiers on raw pixels. \n",
    "\n",
    "For completeness, we should also try training a neural network on image features. This approach should outperform all previous approaches: you should easily be able to achieve over 55% classification accuracy on the test set; our best model achieves about 60% classification accuracy."
   ]
  },
  {
   "cell_type": "code",
   "execution_count": 11,
   "metadata": {
    "ExecuteTime": {
     "end_time": "2019-09-15T14:01:28.665190Z",
     "start_time": "2019-09-15T14:01:28.652830Z"
    },
    "tags": [
     "pdf-ignore"
    ]
   },
   "outputs": [
    {
     "name": "stdout",
     "output_type": "stream",
     "text": [
      "(49000, 155)\n",
      "(49000, 154)\n"
     ]
    }
   ],
   "source": [
    "# Preprocessing: Remove the bias dimension\n",
    "# Make sure to run this cell only ONCE\n",
    "print(X_train_feats.shape)\n",
    "X_train_feats = X_train_feats[:, :-1]\n",
    "X_val_feats = X_val_feats[:, :-1]\n",
    "X_test_feats = X_test_feats[:, :-1]\n",
    "\n",
    "print(X_train_feats.shape)"
   ]
  },
  {
   "cell_type": "code",
   "execution_count": 12,
   "metadata": {
    "ExecuteTime": {
     "end_time": "2019-09-15T14:04:00.527476Z",
     "start_time": "2019-09-15T14:01:28.667174Z"
    },
    "tags": [
     "code"
    ]
   },
   "outputs": [
    {
     "name": "stderr",
     "output_type": "stream",
     "text": [
      "/disk1/chenting/workspace/jupyter_workspace/cs231n/assignment1/cs231n/classifiers/neural_net.py:99: RuntimeWarning: divide by zero encountered in log\n",
      "  loss = -np.sum(np.log(softmax_output[range(N), list(y)]))\n",
      "/disk1/chenting/workspace/jupyter_workspace/cs231n/assignment1/cs231n/classifiers/neural_net.py:97: RuntimeWarning: overflow encountered in subtract\n",
      "  shift_scores = scores - np.max(scores, axis = 1).reshape(-1,1)\n",
      "/disk1/chenting/workspace/jupyter_workspace/cs231n/assignment1/cs231n/classifiers/neural_net.py:101: RuntimeWarning: overflow encountered in double_scalars\n",
      "  loss +=  0.5* reg * (np.sum(W1 * W1) + np.sum(W2 * W2))\n",
      "/disk1/chenting/workspace/jupyter_workspace/cs231n/assignment1/cs231n/classifiers/neural_net.py:97: RuntimeWarning: invalid value encountered in subtract\n",
      "  shift_scores = scores - np.max(scores, axis = 1).reshape(-1,1)\n",
      "/disk1/chenting/workspace/jupyter_workspace/cs231n/assignment1/cs231n/classifiers/neural_net.py:101: RuntimeWarning: overflow encountered in multiply\n",
      "  loss +=  0.5* reg * (np.sum(W1 * W1) + np.sum(W2 * W2))\n",
      "/disk1/chenting/workspace/jupyter_workspace/cs231n/assignment1/cs231n/classifiers/neural_net.py:77: RuntimeWarning: invalid value encountered in maximum\n",
      "  h_output = np.maximum(0, X.dot(W1) + b1) #(N,D) * (D,H) = (N,H)\n",
      "/disk1/chenting/environment/anaconda3/envs/tf/lib/python3.5/site-packages/numpy/core/fromnumeric.py:83: RuntimeWarning: invalid value encountered in reduce\n",
      "  return ufunc.reduce(obj, axis, dtype, out, **passkwargs)\n",
      "/disk1/chenting/workspace/jupyter_workspace/cs231n/assignment1/cs231n/classifiers/neural_net.py:122: RuntimeWarning: invalid value encountered in greater\n",
      "  dh_ReLu = (h_output > 0) * dh\n",
      "/disk1/chenting/workspace/jupyter_workspace/cs231n/assignment1/cs231n/classifiers/neural_net.py:236: RuntimeWarning: invalid value encountered in maximum\n",
      "  h = np.maximum(0, X.dot(self.params['W1']) + self.params['b1'])\n",
      "/disk1/chenting/environment/anaconda3/envs/tf/lib/python3.5/site-packages/numpy/core/fromnumeric.py:83: RuntimeWarning: overflow encountered in reduce\n",
      "  return ufunc.reduce(obj, axis, dtype, out, **passkwargs)\n"
     ]
    },
    {
     "name": "stdout",
     "output_type": "stream",
     "text": [
      "lr 1.000000e-02 reg 1.000000e-03 val accuracy: 0.175000\n",
      "lr 1.000000e-02 reg 5.000000e-03 val accuracy: 0.200000\n",
      "lr 1.000000e-02 reg 1.000000e-02 val accuracy: 0.168000\n",
      "lr 1.000000e-02 reg 1.000000e-01 val accuracy: 0.079000\n",
      "lr 1.000000e-02 reg 5.000000e-01 val accuracy: 0.113000\n",
      "lr 1.000000e-02 reg 1.000000e+00 val accuracy: 0.079000\n",
      "lr 1.000000e-01 reg 1.000000e-03 val accuracy: 0.518000\n",
      "lr 1.000000e-01 reg 5.000000e-03 val accuracy: 0.523000\n",
      "lr 1.000000e-01 reg 1.000000e-02 val accuracy: 0.514000\n",
      "lr 1.000000e-01 reg 1.000000e-01 val accuracy: 0.424000\n",
      "lr 1.000000e-01 reg 5.000000e-01 val accuracy: 0.098000\n",
      "lr 1.000000e-01 reg 1.000000e+00 val accuracy: 0.112000\n",
      "lr 5.000000e-01 reg 1.000000e-03 val accuracy: 0.579000\n",
      "lr 5.000000e-01 reg 5.000000e-03 val accuracy: 0.572000\n",
      "lr 5.000000e-01 reg 1.000000e-02 val accuracy: 0.540000\n",
      "lr 5.000000e-01 reg 1.000000e-01 val accuracy: 0.399000\n",
      "lr 5.000000e-01 reg 5.000000e-01 val accuracy: 0.079000\n",
      "lr 5.000000e-01 reg 1.000000e+00 val accuracy: 0.079000\n",
      "lr 1.000000e+00 reg 1.000000e-03 val accuracy: 0.585000\n",
      "lr 1.000000e+00 reg 5.000000e-03 val accuracy: 0.549000\n",
      "lr 1.000000e+00 reg 1.000000e-02 val accuracy: 0.524000\n",
      "lr 1.000000e+00 reg 1.000000e-01 val accuracy: 0.385000\n",
      "lr 1.000000e+00 reg 5.000000e-01 val accuracy: 0.154000\n",
      "lr 1.000000e+00 reg 1.000000e+00 val accuracy: 0.087000\n",
      "lr 5.000000e+00 reg 1.000000e-03 val accuracy: 0.087000\n",
      "lr 5.000000e+00 reg 5.000000e-03 val accuracy: 0.087000\n",
      "lr 5.000000e+00 reg 1.000000e-02 val accuracy: 0.087000\n",
      "lr 5.000000e+00 reg 1.000000e-01 val accuracy: 0.087000\n",
      "lr 5.000000e+00 reg 5.000000e-01 val accuracy: 0.087000\n",
      "lr 5.000000e+00 reg 1.000000e+00 val accuracy: 0.087000\n",
      "best validation accuracy achieved during cross-validation: 0.585000\n"
     ]
    }
   ],
   "source": [
    "from cs231n.classifiers.neural_net import TwoLayerNet\n",
    "\n",
    "input_dim = X_train_feats.shape[1]\n",
    "hidden_dim = 500\n",
    "num_classes = 10\n",
    "\n",
    "net = TwoLayerNet(input_dim, hidden_dim, num_classes)\n",
    "best_net = None\n",
    "\n",
    "################################################################################\n",
    "# TODO: Train a two-layer neural network on image features. You may want to    #\n",
    "# cross-validate various parameters as in previous sections. Store your best   #\n",
    "# model in the best_net variable.                                              #\n",
    "################################################################################\n",
    "\n",
    "results = {}\n",
    "best_val = -1\n",
    "best_net = None\n",
    "\n",
    "learning_rates = [1e-2 ,1e-1, 5e-1, 1, 5]\n",
    "regularization_strengths = [1e-3, 5e-3, 1e-2, 1e-1, 0.5, 1]\n",
    "\n",
    "for lr in learning_rates:\n",
    "    for reg in regularization_strengths:\n",
    "        net = TwoLayerNet(input_dim, hidden_dim, num_classes)\n",
    "        # Train the network\n",
    "        stats = net.train(X_train_feats, y_train, X_val_feats, y_val,\n",
    "        num_iters=1500, batch_size=200,\n",
    "        learning_rate=lr, learning_rate_decay=0.95,\n",
    "        reg= reg, verbose=False)\n",
    "        val_acc = (net.predict(X_val_feats) == y_val).mean()\n",
    "        if val_acc > best_val:\n",
    "            best_val = val_acc\n",
    "            best_net = net         \n",
    "        results[(lr,reg)] = val_acc\n",
    "\n",
    "# Print out results.\n",
    "for lr, reg in sorted(results):\n",
    "    val_acc = results[(lr, reg)]\n",
    "    print('lr %e reg %e val accuracy: %f' % (\n",
    "                lr, reg,  val_acc))\n",
    "    \n",
    "print('best validation accuracy achieved during cross-validation: %f' % best_val)\n",
    "pass\n",
    "################################################################################\n",
    "#                              END OF YOUR CODE                                #\n",
    "################################################################################"
   ]
  },
  {
   "cell_type": "code",
   "execution_count": 13,
   "metadata": {
    "ExecuteTime": {
     "end_time": "2019-09-15T14:04:00.558429Z",
     "start_time": "2019-09-15T14:04:00.530248Z"
    }
   },
   "outputs": [
    {
     "name": "stdout",
     "output_type": "stream",
     "text": [
      "0.552\n"
     ]
    }
   ],
   "source": [
    "# Run your best neural net classifier on the test set. You should be able\n",
    "# to get more than 55% accuracy.\n",
    "\n",
    "test_acc = (best_net.predict(X_test_feats) == y_test).mean()\n",
    "print(test_acc)"
   ]
  }
 ],
 "metadata": {
  "kernelspec": {
   "display_name": "tf",
   "language": "python",
   "name": "python3_tf"
  },
  "language_info": {
   "codemirror_mode": {
    "name": "ipython",
    "version": 3
   },
   "file_extension": ".py",
   "mimetype": "text/x-python",
   "name": "python",
   "nbconvert_exporter": "python",
   "pygments_lexer": "ipython3",
   "version": "3.5.6"
  },
  "latex_envs": {
   "LaTeX_envs_menu_present": true,
   "autoclose": false,
   "autocomplete": true,
   "bibliofile": "biblio.bib",
   "cite_by": "apalike",
   "current_citInitial": 1,
   "eqLabelWithNumbers": true,
   "eqNumInitial": 1,
   "hotkeys": {
    "equation": "Ctrl-E",
    "itemize": "Ctrl-I"
   },
   "labels_anchors": false,
   "latex_user_defs": false,
   "report_style_numbering": false,
   "user_envs_cfg": false
  },
  "toc": {
   "base_numbering": 1,
   "nav_menu": {},
   "number_sections": true,
   "sideBar": true,
   "skip_h1_title": false,
   "title_cell": "Table of Contents",
   "title_sidebar": "Contents",
   "toc_cell": true,
   "toc_position": {
    "height": "calc(100% - 180px)",
    "left": "10px",
    "top": "150px",
    "width": "336px"
   },
   "toc_section_display": true,
   "toc_window_display": false
  }
 },
 "nbformat": 4,
 "nbformat_minor": 1
}
